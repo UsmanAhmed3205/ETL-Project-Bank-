{
 "cells": [
  {
   "cell_type": "code",
   "execution_count": 1,
   "id": "49008bba",
   "metadata": {},
   "outputs": [
    {
     "name": "stdout",
     "output_type": "stream",
     "text": [
      "Requirement already satisfied: icecream in /home/usman/anaconda3/lib/python3.11/site-packages (2.1.3)\n",
      "Requirement already satisfied: colorama>=0.3.9 in /home/usman/anaconda3/lib/python3.11/site-packages (from icecream) (0.4.6)\n",
      "Requirement already satisfied: pygments>=2.2.0 in /home/usman/anaconda3/lib/python3.11/site-packages (from icecream) (2.15.1)\n",
      "Requirement already satisfied: executing>=0.3.1 in /home/usman/anaconda3/lib/python3.11/site-packages (from icecream) (0.8.3)\n",
      "Requirement already satisfied: asttokens>=2.0.1 in /home/usman/anaconda3/lib/python3.11/site-packages (from icecream) (2.0.5)\n",
      "Requirement already satisfied: six in /home/usman/anaconda3/lib/python3.11/site-packages (from asttokens>=2.0.1->icecream) (1.16.0)\n"
     ]
    }
   ],
   "source": [
    "!pip install icecream"
   ]
  },
  {
   "cell_type": "code",
   "execution_count": 51,
   "id": "b0acbf7c",
   "metadata": {},
   "outputs": [],
   "source": [
    "from io import StringIO #input output library  -> used for extracting\n",
    "import requests #Web scrapping used for communicating with web pages (get hit and upload operations) -> used for extract\n",
    "from bs4 import BeautifulSoup #used for parsing HTML code of webpage\n",
    "import pandas as pd # used ofr transformation\n",
    "import sqlite3 #loading the data in small database (small version of SQL)\n",
    "from datetime import datetime\n",
    "#from icecream import ic #debugging visualization"
   ]
  },
  {
   "cell_type": "code",
   "execution_count": 52,
   "id": "1790fee7",
   "metadata": {},
   "outputs": [],
   "source": [
    "#Step :0: to observe the logs to know when error occur during the program failure at what step(i.e extraction etc)\n",
    "\n",
    "def log_progress(message):\n",
    "    with open(\"./project_1_file\", 'a') as file:\n",
    "        file.write(f'{datetime.now()},{message}./n')"
   ]
  },
  {
   "cell_type": "code",
   "execution_count": 53,
   "id": "e2e891d1",
   "metadata": {},
   "outputs": [],
   "source": [
    "#step 1 Extraction:\n",
    "\n",
    "def extraction(url1, table_attribs):\n",
    "    soup = requests.get(url1).text\n",
    "    web = BeautifulSoup(soup, 'html.parser')\n",
    "    table = web.find('span',  string=table_attribs).find_next('table')\n",
    "    df = pd.read_html(StringIO(str(table)))[0]\n",
    "    \n",
    "    log_progress('Data extraction complete. Initiating Transformation process')\n",
    "\n",
    "    return df"
   ]
  },
  {
   "cell_type": "code",
   "execution_count": 54,
   "id": "2805a34e",
   "metadata": {},
   "outputs": [],
   "source": [
    "#step:2: transform:\n",
    "\n",
    "def transformation(df, csv_path):\n",
    "    exchange_rate = pd.read_csv(csv_path, index_col = 0).to_dict()['Rate']\n",
    "    \n",
    "    df['MC_GBP_Billion'] = round(df['Market cap (US$ billion)']* exchange_rate['GBP'], 2) #2 defines that there will be 2 vals after the dec point\n",
    "    df['MC_EUR_Billion'] = round(df['Market cap (US$ billion)']* exchange_rate['EUR'], 2)\n",
    "    df['MC_INR_Billion'] = round(df['Market cap (US$ billion)']* exchange_rate['INR'], 2)\n",
    "    \n",
    "    print(df['MC_EUR_Billion'][4])\n",
    "    \n",
    "    log_progress('Data transformation complete. Initiating Loading process')\n",
    "\n",
    "    return df"
   ]
  },
  {
   "cell_type": "code",
   "execution_count": 55,
   "id": "36df22cb",
   "metadata": {},
   "outputs": [],
   "source": [
    "#step:3: Load\n",
    "#csv\n",
    "\n",
    "def load_to_csv(df, out_path):\n",
    "    df.to_csv(out_path)\n",
    "    \n",
    "    log_progress('Data saved to CSV file')"
   ]
  },
  {
   "cell_type": "code",
   "execution_count": 56,
   "id": "84e577f0",
   "metadata": {},
   "outputs": [],
   "source": [
    "#step:3:\n",
    "#SQLite\n",
    "\n",
    "def load_to_db(df, sql_conn, tn): #dataframe , connection, table name\n",
    "    df.to_sql(tn, sql_conn, if_exists = 'replace', index = False)\n",
    "    \n",
    "    log_progress('Data loaded to Database as a table, Executing queries')"
   ]
  },
  {
   "cell_type": "code",
   "execution_count": 57,
   "id": "4a9ec4ab",
   "metadata": {},
   "outputs": [
    {
     "name": "stdout",
     "output_type": "stream",
     "text": [
      "   Rank                                Bank name  Market cap (US$ billion)\n",
      "0     1                           JPMorgan Chase                    432.92\n",
      "1     2                          Bank of America                    231.52\n",
      "2     3  Industrial and Commercial Bank of China                    194.56\n",
      "3     4               Agricultural Bank of China                    160.68\n",
      "4     5                                HDFC Bank                    157.91\n",
      "5     6                              Wells Fargo                    155.87\n",
      "6     7                        HSBC Holdings PLC                    148.90\n",
      "7     8                           Morgan Stanley                    140.83\n",
      "8     9                  China Construction Bank                    139.82\n",
      "9    10                            Bank of China                    136.81\n",
      "146.86\n",
      "   Rank                                Bank name  Market cap (US$ billion)  \\\n",
      "0     1                           JPMorgan Chase                    432.92   \n",
      "1     2                          Bank of America                    231.52   \n",
      "2     3  Industrial and Commercial Bank of China                    194.56   \n",
      "3     4               Agricultural Bank of China                    160.68   \n",
      "4     5                                HDFC Bank                    157.91   \n",
      "5     6                              Wells Fargo                    155.87   \n",
      "6     7                        HSBC Holdings PLC                    148.90   \n",
      "7     8                           Morgan Stanley                    140.83   \n",
      "8     9                  China Construction Bank                    139.82   \n",
      "9    10                            Bank of China                    136.81   \n",
      "\n",
      "   MC_GBP_Billion  MC_EUR_Billion  MC_INR_Billion  \n",
      "0          346.34          402.62        35910.71  \n",
      "1          185.22          215.31        19204.58  \n",
      "2          155.65          180.94        16138.75  \n",
      "3          128.54          149.43        13328.41  \n",
      "4          126.33          146.86        13098.63  \n",
      "5          124.70          144.96        12929.42  \n",
      "6          119.12          138.48        12351.26  \n",
      "7          112.66          130.97        11681.85  \n",
      "8          111.86          130.03        11598.07  \n",
      "9          109.45          127.23        11348.39  \n"
     ]
    }
   ],
   "source": [
    "if __name__ == '__main__':\n",
    "    url = 'https://web.archive.org/web/20230908091635/https://en.wikipedia.org/wiki/List_of_largest_banks'\n",
    "    output_csv_path = './Largest_banks_data.csv'\n",
    "    database_name = 'Banks.db'\n",
    "    table_name = 'Largest_banks'\n",
    "    #\n",
    "    log_progress('Preliminaries complete. Initiating ETL process')\n",
    "    #\n",
    "    df= extraction(url, 'By market capitalization')\n",
    "    log_progress('extraction completed')\n",
    "    print(df)\n",
    "    \n",
    "    \n",
    "    df = transformation(df , 'exchange_rate.csv')\n",
    "    log_progress('Extraction Completed')\n",
    "    print(df)\n",
    "    \n",
    "    load_to_csv(df, output_csv_path)\n",
    "    log_progress('DataFrame has been uploaded into the csv file on our system')\n",
    "    \n",
    "    with sqlite3.connect(database_name) as conn:\n",
    "        load_to_db(df, conn, table_name)\n",
    "    log_progress(\"DataFrame has been uploaded into the SQLite Database succesfully!\")"
   ]
  },
  {
   "cell_type": "code",
   "execution_count": null,
   "id": "283adf9c",
   "metadata": {},
   "outputs": [],
   "source": []
  },
  {
   "cell_type": "code",
   "execution_count": null,
   "id": "b7660c68",
   "metadata": {},
   "outputs": [],
   "source": []
  }
 ],
 "metadata": {
  "kernelspec": {
   "display_name": "Python 3 (ipykernel)",
   "language": "python",
   "name": "python3"
  },
  "language_info": {
   "codemirror_mode": {
    "name": "ipython",
    "version": 3
   },
   "file_extension": ".py",
   "mimetype": "text/x-python",
   "name": "python",
   "nbconvert_exporter": "python",
   "pygments_lexer": "ipython3",
   "version": "3.11.7"
  }
 },
 "nbformat": 4,
 "nbformat_minor": 5
}
